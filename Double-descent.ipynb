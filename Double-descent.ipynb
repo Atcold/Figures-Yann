{
 "cells": [
  {
   "cell_type": "code",
   "execution_count": null,
   "id": "2aea7c0b-aa1b-434a-a213-383dbc1ac651",
   "metadata": {},
   "outputs": [],
   "source": [
    "import torch\n",
    "from torch import nn, optim\n",
    "from matplotlib import pyplot as plt"
   ]
  },
  {
   "cell_type": "code",
   "execution_count": null,
   "id": "9e26addd-838b-483d-8155-b3bdc3ab57f7",
   "metadata": {},
   "outputs": [],
   "source": [
    "N = 7; σ = 0.1\n",
    "\n",
    "torch.manual_seed(0)\n",
    "# x = torch.rand(N) * 2 - 1\n",
    "x = torch.linspace(-1, 1, N)\n",
    "y = .3 * x + torch.randn(N) * σ\n",
    "p = torch.randperm(N)\n",
    "x, y = x[p], y[p]"
   ]
  },
  {
   "cell_type": "code",
   "execution_count": null,
   "id": "348164c1-df5d-44a3-ba00-358b07eecb21",
   "metadata": {},
   "outputs": [],
   "source": [
    "def plot_data():\n",
    "    plt.scatter(x, y, facecolor='none', edgecolors='w', s=80, label='data', zorder=20)\n",
    "    plt.axis('equal')\n",
    "    plt.grid('on')\n",
    "    plt.xlim((-1.5, 1.5))"
   ]
  },
  {
   "cell_type": "code",
   "execution_count": null,
   "id": "1bfab97a-c7c2-4003-bd9b-257f78010ace",
   "metadata": {},
   "outputs": [],
   "source": [
    "def fit_data(D=10):\n",
    "    # Define encoder\n",
    "    encoder = nn.Sequential(\n",
    "        nn.Linear(1, D),\n",
    "        nn.ReLU(),\n",
    "    )\n",
    "    with torch.no_grad():\n",
    "        h = encoder(x[:,None])  # N x D\n",
    "    # Decoder weights, 1 x D\n",
    "    if D < 100:\n",
    "        w = y[None] @ h @ torch.inverse(h.t() @ h + 1e-5 * torch.eye(D))\n",
    "    else:\n",
    "        w = y[None] @ h @ torch.inverse(h.t() @ h + 1e-2 * torch.eye(D))\n",
    "    # Generate predictions\n",
    "    X = torch.linspace(-1.5, 1.5, 1000)\n",
    "    with torch.no_grad():\n",
    "        H = encoder(X[:,None])\n",
    "    Ỹ = H @ w.t()\n",
    "    # Plot\n",
    "    plt.plot(X, Ỹ, label=f'{D = }')\n",
    "    plt.ylim((-1, 1))"
   ]
  },
  {
   "cell_type": "code",
   "execution_count": null,
   "id": "c42ad9fe-2c77-418a-9d56-99d7bf8f5a1b",
   "metadata": {},
   "outputs": [],
   "source": [
    "plt.style.use(['dark_background', 'bmh'])\n",
    "plt.rc('axes', facecolor='k')\n",
    "plt.rc('figure', facecolor='k')"
   ]
  },
  {
   "cell_type": "code",
   "execution_count": null,
   "id": "19db5460-880e-4d09-b7bb-2e866dc51a25",
   "metadata": {},
   "outputs": [],
   "source": [
    "torch.manual_seed(1)\n",
    "plt.figure(dpi=300)\n",
    "plot_data()\n",
    "for e in (.5, 1.5, 3.5):\n",
    "    D = int(10**e)\n",
    "    fit_data(D)\n",
    "plt.legend()"
   ]
  },
  {
   "cell_type": "code",
   "execution_count": null,
   "id": "92d04f5c-34ba-4a29-b272-2805df0b22e8",
   "metadata": {},
   "outputs": [],
   "source": []
  }
 ],
 "metadata": {
  "jupytext": {
   "formats": "ipynb,auto:percent"
  },
  "kernelspec": {
   "display_name": "Python 3 (ipykernel)",
   "language": "python",
   "name": "python3"
  },
  "language_info": {
   "codemirror_mode": {
    "name": "ipython",
    "version": 3
   },
   "file_extension": ".py",
   "mimetype": "text/x-python",
   "name": "python",
   "nbconvert_exporter": "python",
   "pygments_lexer": "ipython3",
   "version": "3.10.9"
  }
 },
 "nbformat": 4,
 "nbformat_minor": 5
}
